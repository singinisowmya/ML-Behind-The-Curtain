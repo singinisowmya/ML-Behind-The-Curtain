{
  "cells": [
    {
      "cell_type": "code",
      "execution_count": null,
      "id": "42f5e68e",
      "metadata": {
        "id": "42f5e68e"
      },
      "outputs": [],
      "source": [
        "import numpy as np"
      ]
    },
    {
      "cell_type": "markdown",
      "id": "2b209b50",
      "metadata": {
        "id": "2b209b50"
      },
      "source": [
        "Q1 Let x = np.arange(4, dtype=np.int64). Create an array of ones with the same shape and type as X."
      ]
    },
    {
      "cell_type": "code",
      "execution_count": null,
      "id": "729dc9cd",
      "metadata": {
        "id": "729dc9cd",
        "outputId": "3ff2f381-bf68-4f46-979a-3ec6cb7706a0",
        "colab": {
          "base_uri": "https://localhost:8080/"
        }
      },
      "outputs": [
        {
          "output_type": "execute_result",
          "data": {
            "text/plain": [
              "array([1., 1., 1., 1.])"
            ]
          },
          "metadata": {},
          "execution_count": 59
        }
      ],
      "source": [
        "x=np.arange(4,dtype=np.int64)\n",
        "k=x.shape\n",
        "a=np.ones(k)\n",
        "a"
      ]
    },
    {
      "cell_type": "markdown",
      "id": "1b9ea803",
      "metadata": {
        "id": "1b9ea803"
      },
      "source": [
        "Q2 Let X = np.array([[1, 2], [3, 4]]). Convert it into a matrix."
      ]
    },
    {
      "cell_type": "code",
      "execution_count": null,
      "id": "23e39b64",
      "metadata": {
        "id": "23e39b64",
        "outputId": "3aa5db33-30fa-4954-a32a-4478bf48333c",
        "colab": {
          "base_uri": "https://localhost:8080/"
        }
      },
      "outputs": [
        {
          "output_type": "execute_result",
          "data": {
            "text/plain": [
              "matrix([[0, 1, 2, 3]])"
            ]
          },
          "metadata": {},
          "execution_count": 60
        }
      ],
      "source": [
        "X=np.array([[1,2],[3,4]])\n",
        "X=np.asmatrix(x)\n",
        "X"
      ]
    },
    {
      "cell_type": "markdown",
      "id": "4c1fc004",
      "metadata": {
        "id": "4c1fc004"
      },
      "source": [
        "Q3 Create a 1-D array of 50 evenly spaced elements between 3. and 10., inclusive."
      ]
    },
    {
      "cell_type": "code",
      "execution_count": null,
      "id": "9f0a47db",
      "metadata": {
        "id": "9f0a47db",
        "outputId": "2fdd85dd-aae4-4443-b05d-5cef09cfafa5",
        "colab": {
          "base_uri": "https://localhost:8080/"
        }
      },
      "outputs": [
        {
          "output_type": "execute_result",
          "data": {
            "text/plain": [
              "array([ 3.        ,  3.14285714,  3.28571429,  3.42857143,  3.57142857,\n",
              "        3.71428571,  3.85714286,  4.        ,  4.14285714,  4.28571429,\n",
              "        4.42857143,  4.57142857,  4.71428571,  4.85714286,  5.        ,\n",
              "        5.14285714,  5.28571429,  5.42857143,  5.57142857,  5.71428571,\n",
              "        5.85714286,  6.        ,  6.14285714,  6.28571429,  6.42857143,\n",
              "        6.57142857,  6.71428571,  6.85714286,  7.        ,  7.14285714,\n",
              "        7.28571429,  7.42857143,  7.57142857,  7.71428571,  7.85714286,\n",
              "        8.        ,  8.14285714,  8.28571429,  8.42857143,  8.57142857,\n",
              "        8.71428571,  8.85714286,  9.        ,  9.14285714,  9.28571429,\n",
              "        9.42857143,  9.57142857,  9.71428571,  9.85714286, 10.        ])"
            ]
          },
          "metadata": {},
          "execution_count": 61
        }
      ],
      "source": [
        "A=np.linspace(3,10)\n",
        "A"
      ]
    },
    {
      "cell_type": "markdown",
      "id": "0289d659",
      "metadata": {
        "id": "0289d659"
      },
      "source": [
        "Q4 Let x be array [[1, 2, 3], [4, 5, 6]]. Convert it to [1 4 2 5 3 6]."
      ]
    },
    {
      "cell_type": "code",
      "execution_count": null,
      "id": "f8435bca",
      "metadata": {
        "id": "f8435bca",
        "colab": {
          "base_uri": "https://localhost:8080/"
        },
        "outputId": "e7c9eff4-5e9f-4033-e245-4e4dc9878c56"
      },
      "outputs": [
        {
          "output_type": "execute_result",
          "data": {
            "text/plain": [
              "array([1, 4, 2, 5, 3, 6])"
            ]
          },
          "metadata": {},
          "execution_count": 1
        }
      ],
      "source": [
        "import numpy as np\n",
        "x = np.array([[1, 2, 3], [4, 5, 6]]) \n",
        "new_arr = np.stack((x[0],x[1]), axis=1)\n",
        "new_arr.reshape(6,)"
      ]
    },
    {
      "cell_type": "markdown",
      "id": "71988acd",
      "metadata": {
        "id": "71988acd"
      },
      "source": [
        "Q5 Let x be an array [1, 2, 3, ..., 9]. Split x into 3 arrays, each of which has 4, 2, and 3 elements in the original order."
      ]
    },
    {
      "cell_type": "code",
      "execution_count": null,
      "id": "9425a232",
      "metadata": {
        "id": "9425a232",
        "outputId": "cfebb4c6-0a2d-491e-b951-95b681f45d06",
        "colab": {
          "base_uri": "https://localhost:8080/"
        }
      },
      "outputs": [
        {
          "output_type": "stream",
          "name": "stdout",
          "text": [
            "[1 2 3 4]\n",
            "[5 6]\n",
            "[7 8 9]\n"
          ]
        }
      ],
      "source": [
        "x=np.array([1,2,3,4,5,6,7,8,9])\n",
        "x1=np.array(x[:4])\n",
        "x2=np.array(x[4:6])\n",
        "x3=np.array(x[6:])\n",
        "print(x1)\n",
        "print(x2)\n",
        "print(x3)"
      ]
    },
    {
      "cell_type": "markdown",
      "id": "6aecae8c",
      "metadata": {
        "id": "6aecae8c"
      },
      "source": [
        " Q6 Compute the inverse and primary diagnol sum of x=[[1,2],[3,4]]"
      ]
    },
    {
      "cell_type": "code",
      "execution_count": null,
      "id": "3d79a142",
      "metadata": {
        "id": "3d79a142",
        "colab": {
          "base_uri": "https://localhost:8080/"
        },
        "outputId": "1b875129-d8bd-4a87-8ab3-98bc7903ca06"
      },
      "outputs": [
        {
          "output_type": "stream",
          "name": "stdout",
          "text": [
            "[[-2.   1. ]\n",
            " [ 1.5 -0.5]]\n",
            "5\n"
          ]
        }
      ],
      "source": [
        "x=[[1,2],[3,4]]\n",
        "inverse=np.linalg.inv(x)\n",
        "print(inverse)\n",
        "print(np.trace(x))"
      ]
    },
    {
      "cell_type": "markdown",
      "id": "9f088694",
      "metadata": {
        "id": "9f088694"
      },
      "source": [
        "Q7 Sort x along the second axis. x = [[1,4],[3,1]]"
      ]
    },
    {
      "cell_type": "code",
      "execution_count": null,
      "id": "40099735",
      "metadata": {
        "id": "40099735",
        "colab": {
          "base_uri": "https://localhost:8080/"
        },
        "outputId": "f26cb3ca-e315-4794-c1b0-9c10618c5a0b"
      },
      "outputs": [
        {
          "output_type": "execute_result",
          "data": {
            "text/plain": [
              "array([[1, 4],\n",
              "       [1, 3]])"
            ]
          },
          "metadata": {},
          "execution_count": 67
        }
      ],
      "source": [
        " x = [[1,4],[3,1]]\n",
        "np.sort(x,axis=1)"
      ]
    },
    {
      "cell_type": "markdown",
      "id": "51cc1a71",
      "metadata": {
        "id": "51cc1a71"
      },
      "source": [
        "Q8 Get the indices that would sort x(as above) along the second axis."
      ]
    },
    {
      "cell_type": "code",
      "execution_count": null,
      "id": "f314f2b6",
      "metadata": {
        "id": "f314f2b6",
        "colab": {
          "base_uri": "https://localhost:8080/"
        },
        "outputId": "231ee672-3321-4af7-8bdb-40768bf940c7"
      },
      "outputs": [
        {
          "output_type": "execute_result",
          "data": {
            "text/plain": [
              "array([[0, 1],\n",
              "       [1, 0]])"
            ]
          },
          "metadata": {},
          "execution_count": 2
        }
      ],
      "source": [
        "x = [[1,4],[3,1]]\n",
        "y = np.argsort(x, axis=1)\n",
        "y"
      ]
    },
    {
      "cell_type": "markdown",
      "id": "1cf5455c",
      "metadata": {
        "id": "1cf5455c"
      },
      "source": [
        "Initiate x as a 2x5 array with random values from 0 to 10(not inclusive).Get the maximum and minimum values and their indices of x along the second axis."
      ]
    },
    {
      "cell_type": "code",
      "execution_count": null,
      "id": "4c9518c5",
      "metadata": {
        "id": "4c9518c5",
        "colab": {
          "base_uri": "https://localhost:8080/"
        },
        "outputId": "59b43035-8aca-468a-b7f3-a85d1ad4e738"
      },
      "outputs": [
        {
          "output_type": "stream",
          "name": "stdout",
          "text": [
            "[1 1]\n",
            "[2 0]\n"
          ]
        }
      ],
      "source": [
        "from numpy import random\n",
        "\n",
        "x = random.randint(10, size=(2, 5))\n",
        "y=np.argmax(x,axis=1)\n",
        "z=np.argmin(x,axis=1)\n",
        "print(y)\n",
        "print(z)"
      ]
    },
    {
      "cell_type": "markdown",
      "id": "d4c46002",
      "metadata": {
        "id": "d4c46002"
      },
      "source": [
        "Run the following load command to get the 2-Dim iris dataset. Do the following operations on it."
      ]
    },
    {
      "cell_type": "code",
      "execution_count": null,
      "id": "6d70b524",
      "metadata": {
        "id": "6d70b524"
      },
      "outputs": [],
      "source": [
        "url = 'https://archive.ics.uci.edu/ml/machine-learning-databases/iris/iris.data'\n",
        "iris_2d = np.genfromtxt(url, delimiter=',', dtype='float', usecols=[0,1,2,3])"
      ]
    },
    {
      "cell_type": "markdown",
      "id": "09bd05b0",
      "metadata": {
        "id": "09bd05b0"
      },
      "source": [
        "Drop rows that contain a missing value. "
      ]
    },
    {
      "cell_type": "code",
      "execution_count": null,
      "id": "ffd754b3",
      "metadata": {
        "id": "ffd754b3",
        "colab": {
          "base_uri": "https://localhost:8080/",
          "height": 424
        },
        "outputId": "c99ff714-c6da-4406-bb98-24cb3888e203"
      },
      "outputs": [
        {
          "output_type": "execute_result",
          "data": {
            "text/plain": [
              "       0    1    2    3\n",
              "0    5.1  3.5  1.4  0.2\n",
              "1    4.9  3.0  1.4  0.2\n",
              "2    4.7  3.2  1.3  0.2\n",
              "3    4.6  3.1  1.5  0.2\n",
              "4    5.0  3.6  1.4  0.2\n",
              "..   ...  ...  ...  ...\n",
              "145  6.7  3.0  5.2  2.3\n",
              "146  6.3  2.5  5.0  1.9\n",
              "147  6.5  3.0  5.2  2.0\n",
              "148  6.2  3.4  5.4  2.3\n",
              "149  5.9  3.0  5.1  1.8\n",
              "\n",
              "[150 rows x 4 columns]"
            ],
            "text/html": [
              "\n",
              "  <div id=\"df-7dba65ac-b3f8-4fbb-96d5-fe3792774a7f\">\n",
              "    <div class=\"colab-df-container\">\n",
              "      <div>\n",
              "<style scoped>\n",
              "    .dataframe tbody tr th:only-of-type {\n",
              "        vertical-align: middle;\n",
              "    }\n",
              "\n",
              "    .dataframe tbody tr th {\n",
              "        vertical-align: top;\n",
              "    }\n",
              "\n",
              "    .dataframe thead th {\n",
              "        text-align: right;\n",
              "    }\n",
              "</style>\n",
              "<table border=\"1\" class=\"dataframe\">\n",
              "  <thead>\n",
              "    <tr style=\"text-align: right;\">\n",
              "      <th></th>\n",
              "      <th>0</th>\n",
              "      <th>1</th>\n",
              "      <th>2</th>\n",
              "      <th>3</th>\n",
              "    </tr>\n",
              "  </thead>\n",
              "  <tbody>\n",
              "    <tr>\n",
              "      <th>0</th>\n",
              "      <td>5.1</td>\n",
              "      <td>3.5</td>\n",
              "      <td>1.4</td>\n",
              "      <td>0.2</td>\n",
              "    </tr>\n",
              "    <tr>\n",
              "      <th>1</th>\n",
              "      <td>4.9</td>\n",
              "      <td>3.0</td>\n",
              "      <td>1.4</td>\n",
              "      <td>0.2</td>\n",
              "    </tr>\n",
              "    <tr>\n",
              "      <th>2</th>\n",
              "      <td>4.7</td>\n",
              "      <td>3.2</td>\n",
              "      <td>1.3</td>\n",
              "      <td>0.2</td>\n",
              "    </tr>\n",
              "    <tr>\n",
              "      <th>3</th>\n",
              "      <td>4.6</td>\n",
              "      <td>3.1</td>\n",
              "      <td>1.5</td>\n",
              "      <td>0.2</td>\n",
              "    </tr>\n",
              "    <tr>\n",
              "      <th>4</th>\n",
              "      <td>5.0</td>\n",
              "      <td>3.6</td>\n",
              "      <td>1.4</td>\n",
              "      <td>0.2</td>\n",
              "    </tr>\n",
              "    <tr>\n",
              "      <th>...</th>\n",
              "      <td>...</td>\n",
              "      <td>...</td>\n",
              "      <td>...</td>\n",
              "      <td>...</td>\n",
              "    </tr>\n",
              "    <tr>\n",
              "      <th>145</th>\n",
              "      <td>6.7</td>\n",
              "      <td>3.0</td>\n",
              "      <td>5.2</td>\n",
              "      <td>2.3</td>\n",
              "    </tr>\n",
              "    <tr>\n",
              "      <th>146</th>\n",
              "      <td>6.3</td>\n",
              "      <td>2.5</td>\n",
              "      <td>5.0</td>\n",
              "      <td>1.9</td>\n",
              "    </tr>\n",
              "    <tr>\n",
              "      <th>147</th>\n",
              "      <td>6.5</td>\n",
              "      <td>3.0</td>\n",
              "      <td>5.2</td>\n",
              "      <td>2.0</td>\n",
              "    </tr>\n",
              "    <tr>\n",
              "      <th>148</th>\n",
              "      <td>6.2</td>\n",
              "      <td>3.4</td>\n",
              "      <td>5.4</td>\n",
              "      <td>2.3</td>\n",
              "    </tr>\n",
              "    <tr>\n",
              "      <th>149</th>\n",
              "      <td>5.9</td>\n",
              "      <td>3.0</td>\n",
              "      <td>5.1</td>\n",
              "      <td>1.8</td>\n",
              "    </tr>\n",
              "  </tbody>\n",
              "</table>\n",
              "<p>150 rows × 4 columns</p>\n",
              "</div>\n",
              "      <button class=\"colab-df-convert\" onclick=\"convertToInteractive('df-7dba65ac-b3f8-4fbb-96d5-fe3792774a7f')\"\n",
              "              title=\"Convert this dataframe to an interactive table.\"\n",
              "              style=\"display:none;\">\n",
              "        \n",
              "  <svg xmlns=\"http://www.w3.org/2000/svg\" height=\"24px\"viewBox=\"0 0 24 24\"\n",
              "       width=\"24px\">\n",
              "    <path d=\"M0 0h24v24H0V0z\" fill=\"none\"/>\n",
              "    <path d=\"M18.56 5.44l.94 2.06.94-2.06 2.06-.94-2.06-.94-.94-2.06-.94 2.06-2.06.94zm-11 1L8.5 8.5l.94-2.06 2.06-.94-2.06-.94L8.5 2.5l-.94 2.06-2.06.94zm10 10l.94 2.06.94-2.06 2.06-.94-2.06-.94-.94-2.06-.94 2.06-2.06.94z\"/><path d=\"M17.41 7.96l-1.37-1.37c-.4-.4-.92-.59-1.43-.59-.52 0-1.04.2-1.43.59L10.3 9.45l-7.72 7.72c-.78.78-.78 2.05 0 2.83L4 21.41c.39.39.9.59 1.41.59.51 0 1.02-.2 1.41-.59l7.78-7.78 2.81-2.81c.8-.78.8-2.07 0-2.86zM5.41 20L4 18.59l7.72-7.72 1.47 1.35L5.41 20z\"/>\n",
              "  </svg>\n",
              "      </button>\n",
              "      \n",
              "  <style>\n",
              "    .colab-df-container {\n",
              "      display:flex;\n",
              "      flex-wrap:wrap;\n",
              "      gap: 12px;\n",
              "    }\n",
              "\n",
              "    .colab-df-convert {\n",
              "      background-color: #E8F0FE;\n",
              "      border: none;\n",
              "      border-radius: 50%;\n",
              "      cursor: pointer;\n",
              "      display: none;\n",
              "      fill: #1967D2;\n",
              "      height: 32px;\n",
              "      padding: 0 0 0 0;\n",
              "      width: 32px;\n",
              "    }\n",
              "\n",
              "    .colab-df-convert:hover {\n",
              "      background-color: #E2EBFA;\n",
              "      box-shadow: 0px 1px 2px rgba(60, 64, 67, 0.3), 0px 1px 3px 1px rgba(60, 64, 67, 0.15);\n",
              "      fill: #174EA6;\n",
              "    }\n",
              "\n",
              "    [theme=dark] .colab-df-convert {\n",
              "      background-color: #3B4455;\n",
              "      fill: #D2E3FC;\n",
              "    }\n",
              "\n",
              "    [theme=dark] .colab-df-convert:hover {\n",
              "      background-color: #434B5C;\n",
              "      box-shadow: 0px 1px 3px 1px rgba(0, 0, 0, 0.15);\n",
              "      filter: drop-shadow(0px 1px 2px rgba(0, 0, 0, 0.3));\n",
              "      fill: #FFFFFF;\n",
              "    }\n",
              "  </style>\n",
              "\n",
              "      <script>\n",
              "        const buttonEl =\n",
              "          document.querySelector('#df-7dba65ac-b3f8-4fbb-96d5-fe3792774a7f button.colab-df-convert');\n",
              "        buttonEl.style.display =\n",
              "          google.colab.kernel.accessAllowed ? 'block' : 'none';\n",
              "\n",
              "        async function convertToInteractive(key) {\n",
              "          const element = document.querySelector('#df-7dba65ac-b3f8-4fbb-96d5-fe3792774a7f');\n",
              "          const dataTable =\n",
              "            await google.colab.kernel.invokeFunction('convertToInteractive',\n",
              "                                                     [key], {});\n",
              "          if (!dataTable) return;\n",
              "\n",
              "          const docLinkHtml = 'Like what you see? Visit the ' +\n",
              "            '<a target=\"_blank\" href=https://colab.research.google.com/notebooks/data_table.ipynb>data table notebook</a>'\n",
              "            + ' to learn more about interactive tables.';\n",
              "          element.innerHTML = '';\n",
              "          dataTable['output_type'] = 'display_data';\n",
              "          await google.colab.output.renderOutput(dataTable, element);\n",
              "          const docLink = document.createElement('div');\n",
              "          docLink.innerHTML = docLinkHtml;\n",
              "          element.appendChild(docLink);\n",
              "        }\n",
              "      </script>\n",
              "    </div>\n",
              "  </div>\n",
              "  "
            ]
          },
          "metadata": {},
          "execution_count": 32
        }
      ],
      "source": [
        "import pandas as pd\n",
        "iris_2d=pd.DataFrame(iris_2d)\n",
        "iris_2d"
      ]
    },
    {
      "cell_type": "code",
      "source": [
        "iris_2d.isna().sum()"
      ],
      "metadata": {
        "colab": {
          "base_uri": "https://localhost:8080/"
        },
        "id": "-QcW_bIKmiet",
        "outputId": "762e3e89-5f8b-4182-aabc-ba6f9a518302"
      },
      "id": "-QcW_bIKmiet",
      "execution_count": null,
      "outputs": [
        {
          "output_type": "execute_result",
          "data": {
            "text/plain": [
              "0    0\n",
              "1    0\n",
              "2    0\n",
              "3    0\n",
              "dtype: int64"
            ]
          },
          "metadata": {},
          "execution_count": 33
        }
      ]
    },
    {
      "cell_type": "code",
      "source": [
        "iris_2d.dropna()"
      ],
      "metadata": {
        "colab": {
          "base_uri": "https://localhost:8080/",
          "height": 424
        },
        "id": "60AqZYbMmp9c",
        "outputId": "ec101ce8-1a5c-4f79-c7fb-98d4695e1170"
      },
      "id": "60AqZYbMmp9c",
      "execution_count": null,
      "outputs": [
        {
          "output_type": "execute_result",
          "data": {
            "text/plain": [
              "       0    1    2    3\n",
              "0    5.1  3.5  1.4  0.2\n",
              "1    4.9  3.0  1.4  0.2\n",
              "2    4.7  3.2  1.3  0.2\n",
              "3    4.6  3.1  1.5  0.2\n",
              "4    5.0  3.6  1.4  0.2\n",
              "..   ...  ...  ...  ...\n",
              "145  6.7  3.0  5.2  2.3\n",
              "146  6.3  2.5  5.0  1.9\n",
              "147  6.5  3.0  5.2  2.0\n",
              "148  6.2  3.4  5.4  2.3\n",
              "149  5.9  3.0  5.1  1.8\n",
              "\n",
              "[150 rows x 4 columns]"
            ],
            "text/html": [
              "\n",
              "  <div id=\"df-158466e0-76bb-4eb7-8d59-66deec2efa36\">\n",
              "    <div class=\"colab-df-container\">\n",
              "      <div>\n",
              "<style scoped>\n",
              "    .dataframe tbody tr th:only-of-type {\n",
              "        vertical-align: middle;\n",
              "    }\n",
              "\n",
              "    .dataframe tbody tr th {\n",
              "        vertical-align: top;\n",
              "    }\n",
              "\n",
              "    .dataframe thead th {\n",
              "        text-align: right;\n",
              "    }\n",
              "</style>\n",
              "<table border=\"1\" class=\"dataframe\">\n",
              "  <thead>\n",
              "    <tr style=\"text-align: right;\">\n",
              "      <th></th>\n",
              "      <th>0</th>\n",
              "      <th>1</th>\n",
              "      <th>2</th>\n",
              "      <th>3</th>\n",
              "    </tr>\n",
              "  </thead>\n",
              "  <tbody>\n",
              "    <tr>\n",
              "      <th>0</th>\n",
              "      <td>5.1</td>\n",
              "      <td>3.5</td>\n",
              "      <td>1.4</td>\n",
              "      <td>0.2</td>\n",
              "    </tr>\n",
              "    <tr>\n",
              "      <th>1</th>\n",
              "      <td>4.9</td>\n",
              "      <td>3.0</td>\n",
              "      <td>1.4</td>\n",
              "      <td>0.2</td>\n",
              "    </tr>\n",
              "    <tr>\n",
              "      <th>2</th>\n",
              "      <td>4.7</td>\n",
              "      <td>3.2</td>\n",
              "      <td>1.3</td>\n",
              "      <td>0.2</td>\n",
              "    </tr>\n",
              "    <tr>\n",
              "      <th>3</th>\n",
              "      <td>4.6</td>\n",
              "      <td>3.1</td>\n",
              "      <td>1.5</td>\n",
              "      <td>0.2</td>\n",
              "    </tr>\n",
              "    <tr>\n",
              "      <th>4</th>\n",
              "      <td>5.0</td>\n",
              "      <td>3.6</td>\n",
              "      <td>1.4</td>\n",
              "      <td>0.2</td>\n",
              "    </tr>\n",
              "    <tr>\n",
              "      <th>...</th>\n",
              "      <td>...</td>\n",
              "      <td>...</td>\n",
              "      <td>...</td>\n",
              "      <td>...</td>\n",
              "    </tr>\n",
              "    <tr>\n",
              "      <th>145</th>\n",
              "      <td>6.7</td>\n",
              "      <td>3.0</td>\n",
              "      <td>5.2</td>\n",
              "      <td>2.3</td>\n",
              "    </tr>\n",
              "    <tr>\n",
              "      <th>146</th>\n",
              "      <td>6.3</td>\n",
              "      <td>2.5</td>\n",
              "      <td>5.0</td>\n",
              "      <td>1.9</td>\n",
              "    </tr>\n",
              "    <tr>\n",
              "      <th>147</th>\n",
              "      <td>6.5</td>\n",
              "      <td>3.0</td>\n",
              "      <td>5.2</td>\n",
              "      <td>2.0</td>\n",
              "    </tr>\n",
              "    <tr>\n",
              "      <th>148</th>\n",
              "      <td>6.2</td>\n",
              "      <td>3.4</td>\n",
              "      <td>5.4</td>\n",
              "      <td>2.3</td>\n",
              "    </tr>\n",
              "    <tr>\n",
              "      <th>149</th>\n",
              "      <td>5.9</td>\n",
              "      <td>3.0</td>\n",
              "      <td>5.1</td>\n",
              "      <td>1.8</td>\n",
              "    </tr>\n",
              "  </tbody>\n",
              "</table>\n",
              "<p>150 rows × 4 columns</p>\n",
              "</div>\n",
              "      <button class=\"colab-df-convert\" onclick=\"convertToInteractive('df-158466e0-76bb-4eb7-8d59-66deec2efa36')\"\n",
              "              title=\"Convert this dataframe to an interactive table.\"\n",
              "              style=\"display:none;\">\n",
              "        \n",
              "  <svg xmlns=\"http://www.w3.org/2000/svg\" height=\"24px\"viewBox=\"0 0 24 24\"\n",
              "       width=\"24px\">\n",
              "    <path d=\"M0 0h24v24H0V0z\" fill=\"none\"/>\n",
              "    <path d=\"M18.56 5.44l.94 2.06.94-2.06 2.06-.94-2.06-.94-.94-2.06-.94 2.06-2.06.94zm-11 1L8.5 8.5l.94-2.06 2.06-.94-2.06-.94L8.5 2.5l-.94 2.06-2.06.94zm10 10l.94 2.06.94-2.06 2.06-.94-2.06-.94-.94-2.06-.94 2.06-2.06.94z\"/><path d=\"M17.41 7.96l-1.37-1.37c-.4-.4-.92-.59-1.43-.59-.52 0-1.04.2-1.43.59L10.3 9.45l-7.72 7.72c-.78.78-.78 2.05 0 2.83L4 21.41c.39.39.9.59 1.41.59.51 0 1.02-.2 1.41-.59l7.78-7.78 2.81-2.81c.8-.78.8-2.07 0-2.86zM5.41 20L4 18.59l7.72-7.72 1.47 1.35L5.41 20z\"/>\n",
              "  </svg>\n",
              "      </button>\n",
              "      \n",
              "  <style>\n",
              "    .colab-df-container {\n",
              "      display:flex;\n",
              "      flex-wrap:wrap;\n",
              "      gap: 12px;\n",
              "    }\n",
              "\n",
              "    .colab-df-convert {\n",
              "      background-color: #E8F0FE;\n",
              "      border: none;\n",
              "      border-radius: 50%;\n",
              "      cursor: pointer;\n",
              "      display: none;\n",
              "      fill: #1967D2;\n",
              "      height: 32px;\n",
              "      padding: 0 0 0 0;\n",
              "      width: 32px;\n",
              "    }\n",
              "\n",
              "    .colab-df-convert:hover {\n",
              "      background-color: #E2EBFA;\n",
              "      box-shadow: 0px 1px 2px rgba(60, 64, 67, 0.3), 0px 1px 3px 1px rgba(60, 64, 67, 0.15);\n",
              "      fill: #174EA6;\n",
              "    }\n",
              "\n",
              "    [theme=dark] .colab-df-convert {\n",
              "      background-color: #3B4455;\n",
              "      fill: #D2E3FC;\n",
              "    }\n",
              "\n",
              "    [theme=dark] .colab-df-convert:hover {\n",
              "      background-color: #434B5C;\n",
              "      box-shadow: 0px 1px 3px 1px rgba(0, 0, 0, 0.15);\n",
              "      filter: drop-shadow(0px 1px 2px rgba(0, 0, 0, 0.3));\n",
              "      fill: #FFFFFF;\n",
              "    }\n",
              "  </style>\n",
              "\n",
              "      <script>\n",
              "        const buttonEl =\n",
              "          document.querySelector('#df-158466e0-76bb-4eb7-8d59-66deec2efa36 button.colab-df-convert');\n",
              "        buttonEl.style.display =\n",
              "          google.colab.kernel.accessAllowed ? 'block' : 'none';\n",
              "\n",
              "        async function convertToInteractive(key) {\n",
              "          const element = document.querySelector('#df-158466e0-76bb-4eb7-8d59-66deec2efa36');\n",
              "          const dataTable =\n",
              "            await google.colab.kernel.invokeFunction('convertToInteractive',\n",
              "                                                     [key], {});\n",
              "          if (!dataTable) return;\n",
              "\n",
              "          const docLinkHtml = 'Like what you see? Visit the ' +\n",
              "            '<a target=\"_blank\" href=https://colab.research.google.com/notebooks/data_table.ipynb>data table notebook</a>'\n",
              "            + ' to learn more about interactive tables.';\n",
              "          element.innerHTML = '';\n",
              "          dataTable['output_type'] = 'display_data';\n",
              "          await google.colab.output.renderOutput(dataTable, element);\n",
              "          const docLink = document.createElement('div');\n",
              "          docLink.innerHTML = docLinkHtml;\n",
              "          element.appendChild(docLink);\n",
              "        }\n",
              "      </script>\n",
              "    </div>\n",
              "  </div>\n",
              "  "
            ]
          },
          "metadata": {},
          "execution_count": 34
        }
      ]
    },
    {
      "cell_type": "markdown",
      "id": "8cbd9fb3",
      "metadata": {
        "id": "8cbd9fb3"
      },
      "source": [
        "Find the correlation between first two columns."
      ]
    },
    {
      "cell_type": "code",
      "source": [
        "col1=iris_2d[0]\n",
        "col2=iris_2d[1]\n",
        "correlation=col1.corr(col2)\n",
        "print(correlation)"
      ],
      "metadata": {
        "colab": {
          "base_uri": "https://localhost:8080/"
        },
        "id": "Cv11SGNdmoY8",
        "outputId": "e1625992-5ee2-4e0c-e3d8-087eff4c15de"
      },
      "id": "Cv11SGNdmoY8",
      "execution_count": null,
      "outputs": [
        {
          "output_type": "stream",
          "name": "stdout",
          "text": [
            "-0.10936924995064937\n"
          ]
        }
      ]
    },
    {
      "cell_type": "markdown",
      "id": "73965a4a",
      "metadata": {
        "id": "73965a4a"
      },
      "source": [
        "Find the mean,median and standard deviation of column 3."
      ]
    },
    {
      "cell_type": "code",
      "execution_count": null,
      "id": "ab824597",
      "metadata": {
        "id": "ab824597",
        "colab": {
          "base_uri": "https://localhost:8080/"
        },
        "outputId": "73cf8347-0aae-47c3-cdfb-6f87802fc4be"
      },
      "outputs": [
        {
          "output_type": "stream",
          "name": "stdout",
          "text": [
            "mean 1.1986666666666672\n",
            "median 1.3\n",
            "standard deviation 0.7631607417008414\n"
          ]
        }
      ],
      "source": [
        "print(\"mean\",iris_2d[3].mean())\n",
        "print(\"median\",iris_2d[3].median())\n",
        "print(\"standard deviation\",iris_2d[3].std())"
      ]
    },
    {
      "cell_type": "markdown",
      "id": "14e0308e",
      "metadata": {
        "id": "14e0308e"
      },
      "source": [
        "Create a new column for volume in iris_2d, where volume is (pi x petallength x sepal_length^2)/3"
      ]
    },
    {
      "cell_type": "code",
      "execution_count": null,
      "id": "91c944c3",
      "metadata": {
        "id": "91c944c3",
        "colab": {
          "base_uri": "https://localhost:8080/",
          "height": 424
        },
        "outputId": "bf5870be-34fd-44f7-cdbc-3ee35c5346dd"
      },
      "outputs": [
        {
          "output_type": "execute_result",
          "data": {
            "text/plain": [
              "       0    1    2    3      volume\n",
              "0    5.1  3.5  1.4  0.2   38.132652\n",
              "1    4.9  3.0  1.4  0.2   35.200498\n",
              "2    4.7  3.2  1.3  0.2   30.072372\n",
              "3    4.6  3.1  1.5  0.2   33.238050\n",
              "4    5.0  3.6  1.4  0.2   36.651914\n",
              "..   ...  ...  ...  ...         ...\n",
              "145  6.7  3.0  5.2  2.3  244.445230\n",
              "146  6.3  2.5  5.0  1.9  207.816354\n",
              "147  6.5  3.0  5.2  2.0  230.069302\n",
              "148  6.2  3.4  5.4  2.3  217.373079\n",
              "149  5.9  3.0  5.1  1.8  185.910028\n",
              "\n",
              "[150 rows x 5 columns]"
            ],
            "text/html": [
              "\n",
              "  <div id=\"df-a25ba44a-4ccb-4114-88ac-fb788baac3aa\">\n",
              "    <div class=\"colab-df-container\">\n",
              "      <div>\n",
              "<style scoped>\n",
              "    .dataframe tbody tr th:only-of-type {\n",
              "        vertical-align: middle;\n",
              "    }\n",
              "\n",
              "    .dataframe tbody tr th {\n",
              "        vertical-align: top;\n",
              "    }\n",
              "\n",
              "    .dataframe thead th {\n",
              "        text-align: right;\n",
              "    }\n",
              "</style>\n",
              "<table border=\"1\" class=\"dataframe\">\n",
              "  <thead>\n",
              "    <tr style=\"text-align: right;\">\n",
              "      <th></th>\n",
              "      <th>0</th>\n",
              "      <th>1</th>\n",
              "      <th>2</th>\n",
              "      <th>3</th>\n",
              "      <th>volume</th>\n",
              "    </tr>\n",
              "  </thead>\n",
              "  <tbody>\n",
              "    <tr>\n",
              "      <th>0</th>\n",
              "      <td>5.1</td>\n",
              "      <td>3.5</td>\n",
              "      <td>1.4</td>\n",
              "      <td>0.2</td>\n",
              "      <td>38.132652</td>\n",
              "    </tr>\n",
              "    <tr>\n",
              "      <th>1</th>\n",
              "      <td>4.9</td>\n",
              "      <td>3.0</td>\n",
              "      <td>1.4</td>\n",
              "      <td>0.2</td>\n",
              "      <td>35.200498</td>\n",
              "    </tr>\n",
              "    <tr>\n",
              "      <th>2</th>\n",
              "      <td>4.7</td>\n",
              "      <td>3.2</td>\n",
              "      <td>1.3</td>\n",
              "      <td>0.2</td>\n",
              "      <td>30.072372</td>\n",
              "    </tr>\n",
              "    <tr>\n",
              "      <th>3</th>\n",
              "      <td>4.6</td>\n",
              "      <td>3.1</td>\n",
              "      <td>1.5</td>\n",
              "      <td>0.2</td>\n",
              "      <td>33.238050</td>\n",
              "    </tr>\n",
              "    <tr>\n",
              "      <th>4</th>\n",
              "      <td>5.0</td>\n",
              "      <td>3.6</td>\n",
              "      <td>1.4</td>\n",
              "      <td>0.2</td>\n",
              "      <td>36.651914</td>\n",
              "    </tr>\n",
              "    <tr>\n",
              "      <th>...</th>\n",
              "      <td>...</td>\n",
              "      <td>...</td>\n",
              "      <td>...</td>\n",
              "      <td>...</td>\n",
              "      <td>...</td>\n",
              "    </tr>\n",
              "    <tr>\n",
              "      <th>145</th>\n",
              "      <td>6.7</td>\n",
              "      <td>3.0</td>\n",
              "      <td>5.2</td>\n",
              "      <td>2.3</td>\n",
              "      <td>244.445230</td>\n",
              "    </tr>\n",
              "    <tr>\n",
              "      <th>146</th>\n",
              "      <td>6.3</td>\n",
              "      <td>2.5</td>\n",
              "      <td>5.0</td>\n",
              "      <td>1.9</td>\n",
              "      <td>207.816354</td>\n",
              "    </tr>\n",
              "    <tr>\n",
              "      <th>147</th>\n",
              "      <td>6.5</td>\n",
              "      <td>3.0</td>\n",
              "      <td>5.2</td>\n",
              "      <td>2.0</td>\n",
              "      <td>230.069302</td>\n",
              "    </tr>\n",
              "    <tr>\n",
              "      <th>148</th>\n",
              "      <td>6.2</td>\n",
              "      <td>3.4</td>\n",
              "      <td>5.4</td>\n",
              "      <td>2.3</td>\n",
              "      <td>217.373079</td>\n",
              "    </tr>\n",
              "    <tr>\n",
              "      <th>149</th>\n",
              "      <td>5.9</td>\n",
              "      <td>3.0</td>\n",
              "      <td>5.1</td>\n",
              "      <td>1.8</td>\n",
              "      <td>185.910028</td>\n",
              "    </tr>\n",
              "  </tbody>\n",
              "</table>\n",
              "<p>150 rows × 5 columns</p>\n",
              "</div>\n",
              "      <button class=\"colab-df-convert\" onclick=\"convertToInteractive('df-a25ba44a-4ccb-4114-88ac-fb788baac3aa')\"\n",
              "              title=\"Convert this dataframe to an interactive table.\"\n",
              "              style=\"display:none;\">\n",
              "        \n",
              "  <svg xmlns=\"http://www.w3.org/2000/svg\" height=\"24px\"viewBox=\"0 0 24 24\"\n",
              "       width=\"24px\">\n",
              "    <path d=\"M0 0h24v24H0V0z\" fill=\"none\"/>\n",
              "    <path d=\"M18.56 5.44l.94 2.06.94-2.06 2.06-.94-2.06-.94-.94-2.06-.94 2.06-2.06.94zm-11 1L8.5 8.5l.94-2.06 2.06-.94-2.06-.94L8.5 2.5l-.94 2.06-2.06.94zm10 10l.94 2.06.94-2.06 2.06-.94-2.06-.94-.94-2.06-.94 2.06-2.06.94z\"/><path d=\"M17.41 7.96l-1.37-1.37c-.4-.4-.92-.59-1.43-.59-.52 0-1.04.2-1.43.59L10.3 9.45l-7.72 7.72c-.78.78-.78 2.05 0 2.83L4 21.41c.39.39.9.59 1.41.59.51 0 1.02-.2 1.41-.59l7.78-7.78 2.81-2.81c.8-.78.8-2.07 0-2.86zM5.41 20L4 18.59l7.72-7.72 1.47 1.35L5.41 20z\"/>\n",
              "  </svg>\n",
              "      </button>\n",
              "      \n",
              "  <style>\n",
              "    .colab-df-container {\n",
              "      display:flex;\n",
              "      flex-wrap:wrap;\n",
              "      gap: 12px;\n",
              "    }\n",
              "\n",
              "    .colab-df-convert {\n",
              "      background-color: #E8F0FE;\n",
              "      border: none;\n",
              "      border-radius: 50%;\n",
              "      cursor: pointer;\n",
              "      display: none;\n",
              "      fill: #1967D2;\n",
              "      height: 32px;\n",
              "      padding: 0 0 0 0;\n",
              "      width: 32px;\n",
              "    }\n",
              "\n",
              "    .colab-df-convert:hover {\n",
              "      background-color: #E2EBFA;\n",
              "      box-shadow: 0px 1px 2px rgba(60, 64, 67, 0.3), 0px 1px 3px 1px rgba(60, 64, 67, 0.15);\n",
              "      fill: #174EA6;\n",
              "    }\n",
              "\n",
              "    [theme=dark] .colab-df-convert {\n",
              "      background-color: #3B4455;\n",
              "      fill: #D2E3FC;\n",
              "    }\n",
              "\n",
              "    [theme=dark] .colab-df-convert:hover {\n",
              "      background-color: #434B5C;\n",
              "      box-shadow: 0px 1px 3px 1px rgba(0, 0, 0, 0.15);\n",
              "      filter: drop-shadow(0px 1px 2px rgba(0, 0, 0, 0.3));\n",
              "      fill: #FFFFFF;\n",
              "    }\n",
              "  </style>\n",
              "\n",
              "      <script>\n",
              "        const buttonEl =\n",
              "          document.querySelector('#df-a25ba44a-4ccb-4114-88ac-fb788baac3aa button.colab-df-convert');\n",
              "        buttonEl.style.display =\n",
              "          google.colab.kernel.accessAllowed ? 'block' : 'none';\n",
              "\n",
              "        async function convertToInteractive(key) {\n",
              "          const element = document.querySelector('#df-a25ba44a-4ccb-4114-88ac-fb788baac3aa');\n",
              "          const dataTable =\n",
              "            await google.colab.kernel.invokeFunction('convertToInteractive',\n",
              "                                                     [key], {});\n",
              "          if (!dataTable) return;\n",
              "\n",
              "          const docLinkHtml = 'Like what you see? Visit the ' +\n",
              "            '<a target=\"_blank\" href=https://colab.research.google.com/notebooks/data_table.ipynb>data table notebook</a>'\n",
              "            + ' to learn more about interactive tables.';\n",
              "          element.innerHTML = '';\n",
              "          dataTable['output_type'] = 'display_data';\n",
              "          await google.colab.output.renderOutput(dataTable, element);\n",
              "          const docLink = document.createElement('div');\n",
              "          docLink.innerHTML = docLinkHtml;\n",
              "          element.appendChild(docLink);\n",
              "        }\n",
              "      </script>\n",
              "    </div>\n",
              "  </div>\n",
              "  "
            ]
          },
          "metadata": {},
          "execution_count": 37
        }
      ],
      "source": [
        "iris_2d[\"volume\"]=(np.pi*iris_2d[2]*(iris_2d[0]**2))/3\n",
        "iris_2d"
      ]
    },
    {
      "cell_type": "markdown",
      "id": "b7c1758f",
      "metadata": {
        "id": "b7c1758f"
      },
      "source": [
        "Run the following loaad command and solve the following questions"
      ]
    },
    {
      "cell_type": "code",
      "execution_count": null,
      "id": "b3fae8a7",
      "metadata": {
        "id": "b3fae8a7"
      },
      "outputs": [],
      "source": [
        "url = 'https://archive.ics.uci.edu/ml/machine-learning-databases/iris/iris.data'\n",
        "names = ('sepallength', 'sepalwidth', 'petallength', 'petalwidth', 'species')\n",
        "iris = np.genfromtxt(url, delimiter=',', dtype='object')"
      ]
    },
    {
      "cell_type": "markdown",
      "id": "4ee21e50",
      "metadata": {
        "id": "4ee21e50"
      },
      "source": [
        "Find the count of unique species."
      ]
    },
    {
      "cell_type": "code",
      "execution_count": null,
      "id": "730ad758",
      "metadata": {
        "id": "730ad758",
        "colab": {
          "base_uri": "https://localhost:8080/",
          "height": 424
        },
        "outputId": "b6a9d433-fbeb-44d6-b6a7-9a7e42813c4c"
      },
      "outputs": [
        {
          "output_type": "execute_result",
          "data": {
            "text/plain": [
              "    sepallength sepalwidth petallength petalwidth            species\n",
              "0        b'5.1'     b'3.5'      b'1.4'     b'0.2'     b'Iris-setosa'\n",
              "1        b'4.9'     b'3.0'      b'1.4'     b'0.2'     b'Iris-setosa'\n",
              "2        b'4.7'     b'3.2'      b'1.3'     b'0.2'     b'Iris-setosa'\n",
              "3        b'4.6'     b'3.1'      b'1.5'     b'0.2'     b'Iris-setosa'\n",
              "4        b'5.0'     b'3.6'      b'1.4'     b'0.2'     b'Iris-setosa'\n",
              "..          ...        ...         ...        ...                ...\n",
              "145      b'6.7'     b'3.0'      b'5.2'     b'2.3'  b'Iris-virginica'\n",
              "146      b'6.3'     b'2.5'      b'5.0'     b'1.9'  b'Iris-virginica'\n",
              "147      b'6.5'     b'3.0'      b'5.2'     b'2.0'  b'Iris-virginica'\n",
              "148      b'6.2'     b'3.4'      b'5.4'     b'2.3'  b'Iris-virginica'\n",
              "149      b'5.9'     b'3.0'      b'5.1'     b'1.8'  b'Iris-virginica'\n",
              "\n",
              "[150 rows x 5 columns]"
            ],
            "text/html": [
              "\n",
              "  <div id=\"df-2e280cbe-57de-4571-8a35-b34d3936f913\">\n",
              "    <div class=\"colab-df-container\">\n",
              "      <div>\n",
              "<style scoped>\n",
              "    .dataframe tbody tr th:only-of-type {\n",
              "        vertical-align: middle;\n",
              "    }\n",
              "\n",
              "    .dataframe tbody tr th {\n",
              "        vertical-align: top;\n",
              "    }\n",
              "\n",
              "    .dataframe thead th {\n",
              "        text-align: right;\n",
              "    }\n",
              "</style>\n",
              "<table border=\"1\" class=\"dataframe\">\n",
              "  <thead>\n",
              "    <tr style=\"text-align: right;\">\n",
              "      <th></th>\n",
              "      <th>sepallength</th>\n",
              "      <th>sepalwidth</th>\n",
              "      <th>petallength</th>\n",
              "      <th>petalwidth</th>\n",
              "      <th>species</th>\n",
              "    </tr>\n",
              "  </thead>\n",
              "  <tbody>\n",
              "    <tr>\n",
              "      <th>0</th>\n",
              "      <td>b'5.1'</td>\n",
              "      <td>b'3.5'</td>\n",
              "      <td>b'1.4'</td>\n",
              "      <td>b'0.2'</td>\n",
              "      <td>b'Iris-setosa'</td>\n",
              "    </tr>\n",
              "    <tr>\n",
              "      <th>1</th>\n",
              "      <td>b'4.9'</td>\n",
              "      <td>b'3.0'</td>\n",
              "      <td>b'1.4'</td>\n",
              "      <td>b'0.2'</td>\n",
              "      <td>b'Iris-setosa'</td>\n",
              "    </tr>\n",
              "    <tr>\n",
              "      <th>2</th>\n",
              "      <td>b'4.7'</td>\n",
              "      <td>b'3.2'</td>\n",
              "      <td>b'1.3'</td>\n",
              "      <td>b'0.2'</td>\n",
              "      <td>b'Iris-setosa'</td>\n",
              "    </tr>\n",
              "    <tr>\n",
              "      <th>3</th>\n",
              "      <td>b'4.6'</td>\n",
              "      <td>b'3.1'</td>\n",
              "      <td>b'1.5'</td>\n",
              "      <td>b'0.2'</td>\n",
              "      <td>b'Iris-setosa'</td>\n",
              "    </tr>\n",
              "    <tr>\n",
              "      <th>4</th>\n",
              "      <td>b'5.0'</td>\n",
              "      <td>b'3.6'</td>\n",
              "      <td>b'1.4'</td>\n",
              "      <td>b'0.2'</td>\n",
              "      <td>b'Iris-setosa'</td>\n",
              "    </tr>\n",
              "    <tr>\n",
              "      <th>...</th>\n",
              "      <td>...</td>\n",
              "      <td>...</td>\n",
              "      <td>...</td>\n",
              "      <td>...</td>\n",
              "      <td>...</td>\n",
              "    </tr>\n",
              "    <tr>\n",
              "      <th>145</th>\n",
              "      <td>b'6.7'</td>\n",
              "      <td>b'3.0'</td>\n",
              "      <td>b'5.2'</td>\n",
              "      <td>b'2.3'</td>\n",
              "      <td>b'Iris-virginica'</td>\n",
              "    </tr>\n",
              "    <tr>\n",
              "      <th>146</th>\n",
              "      <td>b'6.3'</td>\n",
              "      <td>b'2.5'</td>\n",
              "      <td>b'5.0'</td>\n",
              "      <td>b'1.9'</td>\n",
              "      <td>b'Iris-virginica'</td>\n",
              "    </tr>\n",
              "    <tr>\n",
              "      <th>147</th>\n",
              "      <td>b'6.5'</td>\n",
              "      <td>b'3.0'</td>\n",
              "      <td>b'5.2'</td>\n",
              "      <td>b'2.0'</td>\n",
              "      <td>b'Iris-virginica'</td>\n",
              "    </tr>\n",
              "    <tr>\n",
              "      <th>148</th>\n",
              "      <td>b'6.2'</td>\n",
              "      <td>b'3.4'</td>\n",
              "      <td>b'5.4'</td>\n",
              "      <td>b'2.3'</td>\n",
              "      <td>b'Iris-virginica'</td>\n",
              "    </tr>\n",
              "    <tr>\n",
              "      <th>149</th>\n",
              "      <td>b'5.9'</td>\n",
              "      <td>b'3.0'</td>\n",
              "      <td>b'5.1'</td>\n",
              "      <td>b'1.8'</td>\n",
              "      <td>b'Iris-virginica'</td>\n",
              "    </tr>\n",
              "  </tbody>\n",
              "</table>\n",
              "<p>150 rows × 5 columns</p>\n",
              "</div>\n",
              "      <button class=\"colab-df-convert\" onclick=\"convertToInteractive('df-2e280cbe-57de-4571-8a35-b34d3936f913')\"\n",
              "              title=\"Convert this dataframe to an interactive table.\"\n",
              "              style=\"display:none;\">\n",
              "        \n",
              "  <svg xmlns=\"http://www.w3.org/2000/svg\" height=\"24px\"viewBox=\"0 0 24 24\"\n",
              "       width=\"24px\">\n",
              "    <path d=\"M0 0h24v24H0V0z\" fill=\"none\"/>\n",
              "    <path d=\"M18.56 5.44l.94 2.06.94-2.06 2.06-.94-2.06-.94-.94-2.06-.94 2.06-2.06.94zm-11 1L8.5 8.5l.94-2.06 2.06-.94-2.06-.94L8.5 2.5l-.94 2.06-2.06.94zm10 10l.94 2.06.94-2.06 2.06-.94-2.06-.94-.94-2.06-.94 2.06-2.06.94z\"/><path d=\"M17.41 7.96l-1.37-1.37c-.4-.4-.92-.59-1.43-.59-.52 0-1.04.2-1.43.59L10.3 9.45l-7.72 7.72c-.78.78-.78 2.05 0 2.83L4 21.41c.39.39.9.59 1.41.59.51 0 1.02-.2 1.41-.59l7.78-7.78 2.81-2.81c.8-.78.8-2.07 0-2.86zM5.41 20L4 18.59l7.72-7.72 1.47 1.35L5.41 20z\"/>\n",
              "  </svg>\n",
              "      </button>\n",
              "      \n",
              "  <style>\n",
              "    .colab-df-container {\n",
              "      display:flex;\n",
              "      flex-wrap:wrap;\n",
              "      gap: 12px;\n",
              "    }\n",
              "\n",
              "    .colab-df-convert {\n",
              "      background-color: #E8F0FE;\n",
              "      border: none;\n",
              "      border-radius: 50%;\n",
              "      cursor: pointer;\n",
              "      display: none;\n",
              "      fill: #1967D2;\n",
              "      height: 32px;\n",
              "      padding: 0 0 0 0;\n",
              "      width: 32px;\n",
              "    }\n",
              "\n",
              "    .colab-df-convert:hover {\n",
              "      background-color: #E2EBFA;\n",
              "      box-shadow: 0px 1px 2px rgba(60, 64, 67, 0.3), 0px 1px 3px 1px rgba(60, 64, 67, 0.15);\n",
              "      fill: #174EA6;\n",
              "    }\n",
              "\n",
              "    [theme=dark] .colab-df-convert {\n",
              "      background-color: #3B4455;\n",
              "      fill: #D2E3FC;\n",
              "    }\n",
              "\n",
              "    [theme=dark] .colab-df-convert:hover {\n",
              "      background-color: #434B5C;\n",
              "      box-shadow: 0px 1px 3px 1px rgba(0, 0, 0, 0.15);\n",
              "      filter: drop-shadow(0px 1px 2px rgba(0, 0, 0, 0.3));\n",
              "      fill: #FFFFFF;\n",
              "    }\n",
              "  </style>\n",
              "\n",
              "      <script>\n",
              "        const buttonEl =\n",
              "          document.querySelector('#df-2e280cbe-57de-4571-8a35-b34d3936f913 button.colab-df-convert');\n",
              "        buttonEl.style.display =\n",
              "          google.colab.kernel.accessAllowed ? 'block' : 'none';\n",
              "\n",
              "        async function convertToInteractive(key) {\n",
              "          const element = document.querySelector('#df-2e280cbe-57de-4571-8a35-b34d3936f913');\n",
              "          const dataTable =\n",
              "            await google.colab.kernel.invokeFunction('convertToInteractive',\n",
              "                                                     [key], {});\n",
              "          if (!dataTable) return;\n",
              "\n",
              "          const docLinkHtml = 'Like what you see? Visit the ' +\n",
              "            '<a target=\"_blank\" href=https://colab.research.google.com/notebooks/data_table.ipynb>data table notebook</a>'\n",
              "            + ' to learn more about interactive tables.';\n",
              "          element.innerHTML = '';\n",
              "          dataTable['output_type'] = 'display_data';\n",
              "          await google.colab.output.renderOutput(dataTable, element);\n",
              "          const docLink = document.createElement('div');\n",
              "          docLink.innerHTML = docLinkHtml;\n",
              "          element.appendChild(docLink);\n",
              "        }\n",
              "      </script>\n",
              "    </div>\n",
              "  </div>\n",
              "  "
            ]
          },
          "metadata": {},
          "execution_count": 50
        }
      ],
      "source": [
        "iris=pd.DataFrame(iris)\n",
        "iris.columns=names\n",
        "iris"
      ]
    },
    {
      "cell_type": "code",
      "source": [
        "k=set(list(iris['species']))\n",
        "unique_species=len(k)\n",
        "print(\"number of unique species:\",unique_species)"
      ],
      "metadata": {
        "colab": {
          "base_uri": "https://localhost:8080/"
        },
        "id": "FrfI4cNjpa3J",
        "outputId": "4801c243-c59c-4eed-8983-07303e8a6473"
      },
      "id": "FrfI4cNjpa3J",
      "execution_count": null,
      "outputs": [
        {
          "output_type": "stream",
          "name": "stdout",
          "text": [
            "number of unique species: 3\n"
          ]
        }
      ]
    },
    {
      "cell_type": "markdown",
      "id": "6d054b10",
      "metadata": {
        "id": "6d054b10"
      },
      "source": [
        "Bin the petal length (3rd) column of iris_2d to form a text array, such that if petal length is:\n",
        "Less than 3 –> ‘small’\n",
        "3-5 –> ‘medium’\n",
        "‘>=5 –> ‘large’"
      ]
    },
    {
      "cell_type": "code",
      "execution_count": null,
      "id": "5be1b28a",
      "metadata": {
        "scrolled": false,
        "id": "5be1b28a",
        "colab": {
          "base_uri": "https://localhost:8080/"
        },
        "outputId": "bc607973-7a75-404b-cca9-0b8fae5fd585"
      },
      "outputs": [
        {
          "output_type": "execute_result",
          "data": {
            "text/plain": [
              "['small',\n",
              " 'small',\n",
              " 'small',\n",
              " 'small',\n",
              " 'small',\n",
              " 'small',\n",
              " 'small',\n",
              " 'small',\n",
              " 'small',\n",
              " 'small',\n",
              " 'small',\n",
              " 'small',\n",
              " 'small',\n",
              " 'small',\n",
              " 'small',\n",
              " 'small',\n",
              " 'small',\n",
              " 'small',\n",
              " 'small',\n",
              " 'small',\n",
              " 'small',\n",
              " 'small',\n",
              " 'small',\n",
              " 'small',\n",
              " 'small',\n",
              " 'small',\n",
              " 'small',\n",
              " 'small',\n",
              " 'small',\n",
              " 'small',\n",
              " 'small',\n",
              " 'small',\n",
              " 'small',\n",
              " 'small',\n",
              " 'small',\n",
              " 'small',\n",
              " 'small',\n",
              " 'small',\n",
              " 'small',\n",
              " 'small',\n",
              " 'small',\n",
              " 'small',\n",
              " 'small',\n",
              " 'small',\n",
              " 'small',\n",
              " 'small',\n",
              " 'small',\n",
              " 'small',\n",
              " 'small',\n",
              " 'small',\n",
              " 'medium',\n",
              " 'medium',\n",
              " 'medium',\n",
              " 'medium',\n",
              " 'medium',\n",
              " 'medium',\n",
              " 'medium',\n",
              " 'medium',\n",
              " 'medium',\n",
              " 'medium',\n",
              " 'medium',\n",
              " 'medium',\n",
              " 'medium',\n",
              " 'medium',\n",
              " 'medium',\n",
              " 'medium',\n",
              " 'medium',\n",
              " 'medium',\n",
              " 'medium',\n",
              " 'medium',\n",
              " 'medium',\n",
              " 'medium',\n",
              " 'medium',\n",
              " 'medium',\n",
              " 'medium',\n",
              " 'medium',\n",
              " 'medium',\n",
              " 'large',\n",
              " 'medium',\n",
              " 'medium',\n",
              " 'medium',\n",
              " 'medium',\n",
              " 'medium',\n",
              " 'large',\n",
              " 'medium',\n",
              " 'medium',\n",
              " 'medium',\n",
              " 'medium',\n",
              " 'medium',\n",
              " 'medium',\n",
              " 'medium',\n",
              " 'medium',\n",
              " 'medium',\n",
              " 'medium',\n",
              " 'medium',\n",
              " 'medium',\n",
              " 'medium',\n",
              " 'medium',\n",
              " 'medium',\n",
              " 'medium',\n",
              " 'large',\n",
              " 'large',\n",
              " 'large',\n",
              " 'large',\n",
              " 'large',\n",
              " 'large',\n",
              " 'medium',\n",
              " 'large',\n",
              " 'large',\n",
              " 'large',\n",
              " 'large',\n",
              " 'large',\n",
              " 'large',\n",
              " 'large',\n",
              " 'large',\n",
              " 'large',\n",
              " 'large',\n",
              " 'large',\n",
              " 'large',\n",
              " 'large',\n",
              " 'large',\n",
              " 'medium',\n",
              " 'large',\n",
              " 'medium',\n",
              " 'large',\n",
              " 'large',\n",
              " 'medium',\n",
              " 'medium',\n",
              " 'large',\n",
              " 'large',\n",
              " 'large',\n",
              " 'large',\n",
              " 'large',\n",
              " 'large',\n",
              " 'large',\n",
              " 'large',\n",
              " 'large',\n",
              " 'large',\n",
              " 'medium',\n",
              " 'large',\n",
              " 'large',\n",
              " 'large',\n",
              " 'large',\n",
              " 'large',\n",
              " 'large',\n",
              " 'large',\n",
              " 'large',\n",
              " 'large',\n",
              " 'large',\n",
              " 'large']"
            ]
          },
          "metadata": {},
          "execution_count": 56
        }
      ],
      "source": [
        "bins=np.digitize(iris[\"petallength\"].astype(\"float\"),[0,3,5,10])\n",
        "textmapping={1:\"small\",2:\"medium\",3:\"large\"}\n",
        "k=[textmapping[x] for x in bins]\n",
        "k"
      ]
    },
    {
      "cell_type": "markdown",
      "id": "87b2ddd8",
      "metadata": {
        "id": "87b2ddd8"
      },
      "source": [
        "Find the most frequent value of petal length (3rd column) in iris dataset"
      ]
    },
    {
      "cell_type": "code",
      "execution_count": null,
      "id": "bb79857d",
      "metadata": {
        "id": "bb79857d",
        "colab": {
          "base_uri": "https://localhost:8080/"
        },
        "outputId": "ec9f2c7c-b9ee-4af1-b5ec-d493cb9697ca"
      },
      "outputs": [
        {
          "output_type": "stream",
          "name": "stdout",
          "text": [
            "b'1.5'\n"
          ]
        }
      ],
      "source": [
        "A=set(list(iris[\"petallength\"]))\n",
        "B=list(iris[\"petallength\"])\n",
        "m=0\n",
        "c=0\n",
        "for i in A:\n",
        "  if(B.count(i)>m):\n",
        "    c=i\n",
        "    m=B.count(i)\n",
        "print(c)"
      ]
    },
    {
      "cell_type": "code",
      "source": [
        "iris[\"petallength\"].mode()"
      ],
      "metadata": {
        "colab": {
          "base_uri": "https://localhost:8080/"
        },
        "id": "CUJ6E8LAsMAq",
        "outputId": "2a55418a-92fd-461e-b9b6-49e854a37d34"
      },
      "id": "CUJ6E8LAsMAq",
      "execution_count": null,
      "outputs": [
        {
          "output_type": "execute_result",
          "data": {
            "text/plain": [
              "0    b'1.5'\n",
              "dtype: object"
            ]
          },
          "metadata": {},
          "execution_count": 58
        }
      ]
    },
    {
      "cell_type": "code",
      "source": [
        ""
      ],
      "metadata": {
        "id": "KzHEkkb_sWN9"
      },
      "id": "KzHEkkb_sWN9",
      "execution_count": null,
      "outputs": []
    }
  ],
  "metadata": {
    "kernelspec": {
      "display_name": "Python 3 (ipykernel)",
      "language": "python",
      "name": "python3"
    },
    "language_info": {
      "codemirror_mode": {
        "name": "ipython",
        "version": 3
      },
      "file_extension": ".py",
      "mimetype": "text/x-python",
      "name": "python",
      "nbconvert_exporter": "python",
      "pygments_lexer": "ipython3",
      "version": "3.8.10"
    },
    "colab": {
      "name": "Assignment 1 - numpy understanding.ipynb",
      "provenance": [],
      "collapsed_sections": []
    }
  },
  "nbformat": 4,
  "nbformat_minor": 5
}